{
  "nbformat": 4,
  "nbformat_minor": 0,
  "metadata": {
    "kernelspec": {
      "name": "python3",
      "display_name": "Python 3"
    },
    "language_info": {
      "codemirror_mode": {
        "name": "ipython",
        "version": 3
      },
      "file_extension": ".py",
      "mimetype": "text/x-python",
      "name": "python",
      "nbconvert_exporter": "python",
      "pygments_lexer": "ipython3",
      "version": "3.6.5"
    },
    "colab": {
      "name": "ANN Regression.ipynb",
      "provenance": [],
      "collapsed_sections": []
    },
    "accelerator": "GPU"
  },
  "cells": [
    {
      "cell_type": "markdown",
      "metadata": {
        "id": "3TRkunXAYwlh"
      },
      "source": [
        ""
      ]
    },
    {
      "cell_type": "markdown",
      "metadata": {
        "id": "b4Bcu6NHDgz7"
      },
      "source": [
        ""
      ]
    },
    {
      "cell_type": "markdown",
      "metadata": {
        "id": "Ih3qcZsuWWAC"
      },
      "source": [
        "## This notebook shows a deep learning regression model. The model is quite generic and can be applied to various data file. However, depending on the data source, you may have to perform additional preprocessing steps.\n",
        "## Here we will predict the generation rate of a power plant for various input paramters"
      ]
    },
    {
      "cell_type": "markdown",
      "metadata": {
        "heading_collapsed": true,
        "id": "_JVX9pu8WWAE"
      },
      "source": [
        "## Importing Libraries"
      ]
    },
    {
      "cell_type": "code",
      "metadata": {
        "id": "ZzzNEwBBWYxx"
      },
      "source": [
        "import numpy as np\n",
        "\n",
        "# assuming tensflow is installed in your machine, if you run in Colab, no need to install it.\n",
        "\n",
        "import tensorflow as tf\n",
        "import pandas as pd"
      ],
      "execution_count": 1,
      "outputs": []
    },
    {
      "cell_type": "code",
      "metadata": {
        "id": "qtf11d0iWb5F"
      },
      "source": [
        "url='https://raw.githubusercontent.com/ehsanece/ML_Data_Drive/main/power_plant.csv'\n",
        "dataset = pd.read_csv(url)\n",
        "X = dataset.iloc[:, :-1].values\n",
        "y = dataset.iloc[:, -1].values\n",
        "from sklearn.model_selection import train_test_split\n",
        "x_train, x_test, y_train, y_test = train_test_split(X, y, test_size = 0.2, random_state = 0)"
      ],
      "execution_count": 4,
      "outputs": []
    },
    {
      "cell_type": "code",
      "metadata": {
        "hidden": true,
        "id": "Fn-8F7qiWWAQ",
        "colab": {
          "base_uri": "https://localhost:8080/"
        },
        "outputId": "5aa8e051-f066-47a8-ef99-3ea054963719"
      },
      "source": [
        "print(x_train.shape)\n",
        "print(x_test.shape)"
      ],
      "execution_count": null,
      "outputs": [
        {
          "output_type": "stream",
          "name": "stdout",
          "text": [
            "(7654, 4)\n",
            "(1914, 4)\n"
          ]
        }
      ]
    },
    {
      "cell_type": "markdown",
      "metadata": {
        "id": "QDYyE2tzWWAX"
      },
      "source": [
        "## Perform the feture scaling on the data"
      ]
    },
    {
      "cell_type": "code",
      "metadata": {
        "id": "uprn69i0WWAZ"
      },
      "source": [
        "x_train -= x_train.mean(axis=0)\n",
        "x_train /= x_train.std(axis=0)\n",
        "x_test -= x_train.mean(axis=0)\n",
        "x_test /= x_train.std(axis=0)"
      ],
      "execution_count": null,
      "outputs": []
    },
    {
      "cell_type": "code",
      "metadata": {
        "id": "aLKRHS68WWA5"
      },
      "source": [
        "x_val = x_train[:x_train.shape[0]//4]\n",
        "x_train_1 = x_train[x_train.shape[0]//4:]\n",
        "\n",
        "y_val = y_train[:x_train.shape[0]//4]\n",
        "y_train_1 = y_train[x_train.shape[0]//4:]"
      ],
      "execution_count": null,
      "outputs": []
    },
    {
      "cell_type": "markdown",
      "metadata": {
        "id": "3WL8ilkJWWAm"
      },
      "source": [
        "## Building the ANN model by defining the hidden layer and the output layer"
      ]
    },
    {
      "cell_type": "code",
      "metadata": {
        "id": "2db-xcegWqaG",
        "colab": {
          "base_uri": "https://localhost:8080/"
        },
        "outputId": "fa85c563-5aec-48d1-ad38-6bef5647b84d"
      },
      "source": [
        "model = tf.keras.Sequential([\n",
        "    tf.keras.layers.Dense(64, activation='relu',input_shape=(x_train.shape[1],)),\n",
        "    tf.keras.layers.Dense(64, activation='relu'), \n",
        "    tf.keras.layers.Dense(1)\n",
        "])\n",
        "\n",
        "model.summary()\n",
        "model.compile(optimizer='adam', loss='mse', metrics=['mae'])"
      ],
      "execution_count": null,
      "outputs": [
        {
          "output_type": "stream",
          "name": "stdout",
          "text": [
            "Model: \"sequential_1\"\n",
            "_________________________________________________________________\n",
            "Layer (type)                 Output Shape              Param #   \n",
            "=================================================================\n",
            "dense_3 (Dense)              (None, 64)                320       \n",
            "_________________________________________________________________\n",
            "dense_4 (Dense)              (None, 64)                4160      \n",
            "_________________________________________________________________\n",
            "dense_5 (Dense)              (None, 1)                 65        \n",
            "=================================================================\n",
            "Total params: 4,545\n",
            "Trainable params: 4,545\n",
            "Non-trainable params: 0\n",
            "_________________________________________________________________\n"
          ]
        }
      ]
    },
    {
      "cell_type": "markdown",
      "metadata": {
        "id": "AeIUBeUMWWA4"
      },
      "source": [
        "## Measure the performance of the deep learning regressor\n",
        "## We are running for only 10 epochs to show the process. You can add more epochs to increase the accuracy"
      ]
    },
    {
      "cell_type": "code",
      "metadata": {
        "scrolled": false,
        "id": "zf8JKwipWWBB",
        "colab": {
          "base_uri": "https://localhost:8080/"
        },
        "outputId": "767268c5-f8d8-4f15-8df7-1643c0e67c07"
      },
      "source": [
        "h = model.fit(x_train_1,\n",
        "              y_train_1,\n",
        "              epochs=10,\n",
        "              batch_size=1,\n",
        "              validation_data=(x_val, y_val))"
      ],
      "execution_count": null,
      "outputs": [
        {
          "output_type": "stream",
          "name": "stdout",
          "text": [
            "Epoch 1/10\n",
            "5741/5741 [==============================] - 16s 3ms/step - loss: 32.8450 - mae: 4.4588 - val_loss: 29.7123 - val_mae: 4.1941\n",
            "Epoch 2/10\n",
            "5741/5741 [==============================] - 16s 3ms/step - loss: 31.3509 - mae: 4.3380 - val_loss: 25.1280 - val_mae: 3.8692\n",
            "Epoch 3/10\n",
            "5741/5741 [==============================] - 16s 3ms/step - loss: 30.8579 - mae: 4.2984 - val_loss: 20.9906 - val_mae: 3.6462\n",
            "Epoch 4/10\n",
            "5741/5741 [==============================] - 16s 3ms/step - loss: 30.3955 - mae: 4.2616 - val_loss: 24.1094 - val_mae: 3.9025\n",
            "Epoch 5/10\n",
            "5741/5741 [==============================] - 16s 3ms/step - loss: 30.7223 - mae: 4.3275 - val_loss: 24.5467 - val_mae: 3.8846\n",
            "Epoch 6/10\n",
            "5741/5741 [==============================] - 16s 3ms/step - loss: 30.7601 - mae: 4.3237 - val_loss: 46.4798 - val_mae: 5.7243\n",
            "Epoch 7/10\n",
            "5741/5741 [==============================] - 16s 3ms/step - loss: 30.0926 - mae: 4.2780 - val_loss: 24.8972 - val_mae: 3.9062\n",
            "Epoch 8/10\n",
            "5741/5741 [==============================] - 16s 3ms/step - loss: 29.7904 - mae: 4.2732 - val_loss: 28.8443 - val_mae: 4.3423\n",
            "Epoch 9/10\n",
            "5741/5741 [==============================] - 16s 3ms/step - loss: 29.8809 - mae: 4.2552 - val_loss: 27.3916 - val_mae: 4.1649\n",
            "Epoch 10/10\n",
            "5741/5741 [==============================] - 16s 3ms/step - loss: 30.0489 - mae: 4.2454 - val_loss: 24.0209 - val_mae: 3.7857\n"
          ]
        }
      ]
    },
    {
      "cell_type": "markdown",
      "metadata": {
        "id": "8wVv3TS8WWBI"
      },
      "source": [
        "##  Performance Visualization"
      ]
    },
    {
      "cell_type": "code",
      "metadata": {
        "id": "vcb3yvIVWWBJ",
        "colab": {
          "base_uri": "https://localhost:8080/",
          "height": 282
        },
        "outputId": "9ca75657-7a9a-47d6-f0da-db092bec2eb9"
      },
      "source": [
        "import matplotlib.pyplot as plt\n",
        "epochs = range(1, len(h.history['mae']) + 1)\n",
        "plt.style.use('ggplot')\n",
        "plt.plot(epochs[1:], h.history['loss'][1:], 'bo', \n",
        "         label='Loss')\n",
        "plt.plot(epochs[1:], h.history['val_loss'][1:], 'b',\n",
        "         label='Validation Loss')\n",
        "plt.xlabel('Epochs')\n",
        "plt.ylabel('Loss')\n",
        "plt.legend();"
      ],
      "execution_count": null,
      "outputs": [
        {
          "output_type": "display_data",
          "data": {
            "image/png": "[encoded data removed]",
            "text/plain": [
              "<Figure size 432x288 with 1 Axes>"
            ]
          },
          "metadata": {}
        }
      ]
    },
    {
      "cell_type": "code",
      "metadata": {
        "id": "hNhOH9Q3WWBS",
        "colab": {
          "base_uri": "https://localhost:8080/",
          "height": 282
        },
        "outputId": "48993e5c-8a82-4785-f9d4-5b0144443e2b"
      },
      "source": [
        "plt.clf()\n",
        "mae_values = h.history['mae']\n",
        "val_mae_values = h.history['val_mae']\n",
        "\n",
        "plt.plot(epochs[1:], mae_values[1:], 'bo', \n",
        "         label='Training MAE')\n",
        "plt.plot(epochs[1:], val_mae_values[1:], 'b',\n",
        "         label='Validation MAE')\n",
        "plt.xlabel('Epochs')\n",
        "plt.ylabel('MAE')\n",
        "plt.legend();"
      ],
      "execution_count": null,
      "outputs": [
        {
          "output_type": "display_data",
          "data": {
            "image/png": "[encoded data removed]",
            "text/plain": [
              "<Figure size 432x288 with 1 Axes>"
            ]
          },
          "metadata": {}
        }
      ]
    },
    {
      "cell_type": "code",
      "metadata": {
        "id": "wk32y0DmWWBT",
        "colab": {
          "base_uri": "https://localhost:8080/",
          "height": 54
        },
        "outputId": "87650690-4d1f-465c-d80b-82effb27c789"
      },
      "source": [
        "test_mse_score, test_mae_score = model.evaluate(x_test, y_test)"
      ],
      "execution_count": null,
      "outputs": [
        {
          "output_type": "stream",
          "text": [
            "\r102/1 [====================================================================================================================================================================================================================================================================================================================================================================================================================================================================================================================================================================================================================================================================================================================================================================================================================================================================================================================================================================================================================================================================================================================================================================================================================================================================================================================================================================================================================================================================================================================================================================================================================================================================================================================================================================================================================================================================================================================================================================================================================================================================================================================================================================================================================================================================================================================================================================================================================================================================================================================================================================================================================================================================================================================================================================================================================================================================================================================================================================================================================================================================================================================================================================================] - 0s 886us/sample - loss: 45684.3017 - mae: 152.5022\n"
          ],
          "name": "stdout"
        }
      ]
    },
    {
      "cell_type": "code",
      "metadata": {
        "id": "nkgPoFE_WWBV",
        "colab": {
          "base_uri": "https://localhost:8080/",
          "height": 34
        },
        "outputId": "a42eb726-7eb9-4c97-e6fc-b0a144360c79"
      },
      "source": [
        "test_mae_score"
      ],
      "execution_count": null,
      "outputs": [
        {
          "output_type": "execute_result",
          "data": {
            "text/plain": [
              "152.50223"
            ]
          },
          "metadata": {
            "tags": []
          },
          "execution_count": 11
        }
      ]
    },
    {
      "cell_type": "markdown",
      "metadata": {
        "id": "Nrm07mioWWBX"
      },
      "source": [
        "***"
      ]
    }
  ]
}