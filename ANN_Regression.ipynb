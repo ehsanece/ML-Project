{
  "nbformat": 4,
  "nbformat_minor": 0,
  "metadata": {
    "kernelspec": {
      "name": "python3",
      "display_name": "Python 3"
    },
    "language_info": {
      "codemirror_mode": {
        "name": "ipython",
        "version": 3
      },
      "file_extension": ".py",
      "mimetype": "text/x-python",
      "name": "python",
      "nbconvert_exporter": "python",
      "pygments_lexer": "ipython3",
      "version": "3.6.5"
    },
    "colab": {
      "name": "ANN_Regression.ipynb",
      "provenance": [],
      "collapsed_sections": []
    },
    "accelerator": "GPU"
  },
  "cells": [
    {
      "cell_type": "markdown",
      "metadata": {
        "id": "Ih3qcZsuWWAC"
      },
      "source": [
        "## This notebook shows a deep learning regression model. The model is quite generic and can be applied to various data files. However, depending on the data source, you may have to perform additional preprocessing steps.\n",
        "## Here we will predict the generation capacity of a power plant for various input paramters"
      ]
    },
    {
      "cell_type": "markdown",
      "metadata": {
        "heading_collapsed": true,
        "id": "_JVX9pu8WWAE"
      },
      "source": [
        "## Importing Libraries"
      ]
    },
    {
      "cell_type": "code",
      "metadata": {
        "id": "ZzzNEwBBWYxx"
      },
      "source": [
        "import numpy as np\n",
        "\n",
        "# assuming tensflow is installed in your machine, if you run in Colab, no need to install it.\n",
        "\n",
        "import tensorflow as tf\n",
        "import pandas as pd"
      ],
      "execution_count": 1,
      "outputs": []
    },
    {
      "cell_type": "code",
      "metadata": {
        "id": "qtf11d0iWb5F"
      },
      "source": [
        "url='https://raw.githubusercontent.com/ehsanece/ML_Data_Drive/main/power_plant.csv'\n",
        "dataset = pd.read_csv(url)\n",
        "X = dataset.iloc[:, :-1].values\n",
        "y = dataset.iloc[:, -1].values\n",
        "from sklearn.model_selection import train_test_split\n",
        "x_train, x_test, y_train, y_test = train_test_split(X, y, test_size = 0.2, random_state = 0)"
      ],
      "execution_count": 2,
      "outputs": []
    },
    {
      "cell_type": "code",
      "metadata": {
        "hidden": true,
        "id": "Fn-8F7qiWWAQ",
        "colab": {
          "base_uri": "https://localhost:8080/"
        },
        "outputId": "4e97b015-bc25-4451-f4f9-763b44c2b373"
      },
      "source": [
        "print(x_train.shape)\n",
        "print(x_test.shape)"
      ],
      "execution_count": 3,
      "outputs": [
        {
          "output_type": "stream",
          "name": "stdout",
          "text": [
            "(7654, 4)\n",
            "(1914, 4)\n"
          ]
        }
      ]
    },
    {
      "cell_type": "markdown",
      "metadata": {
        "id": "QDYyE2tzWWAX"
      },
      "source": [
        "## Performing feature scaling on the data"
      ]
    },
    {
      "cell_type": "code",
      "metadata": {
        "id": "uprn69i0WWAZ"
      },
      "source": [
        "x_train -= x_train.mean(axis=0)\n",
        "x_train /= x_train.std(axis=0)\n",
        "x_test -= x_train.mean(axis=0)\n",
        "x_test /= x_train.std(axis=0)"
      ],
      "execution_count": 4,
      "outputs": []
    },
    {
      "cell_type": "code",
      "metadata": {
        "id": "aLKRHS68WWA5"
      },
      "source": [
        "x_val = x_train[:x_train.shape[0]//4]\n",
        "x_train_1 = x_train[x_train.shape[0]//4:]\n",
        "\n",
        "y_val = y_train[:x_train.shape[0]//4]\n",
        "y_train_1 = y_train[x_train.shape[0]//4:]"
      ],
      "execution_count": 5,
      "outputs": []
    },
    {
      "cell_type": "markdown",
      "metadata": {
        "id": "3WL8ilkJWWAm"
      },
      "source": [
        "## Building the ANN model by defining the hidden layer and the output layer"
      ]
    },
    {
      "cell_type": "code",
      "metadata": {
        "id": "2db-xcegWqaG",
        "colab": {
          "base_uri": "https://localhost:8080/"
        },
        "outputId": "bd8dc817-3dd5-427d-c4ea-53c333482aa6"
      },
      "source": [
        "model = tf.keras.Sequential([\n",
        "    tf.keras.layers.Dense(64, activation='relu',input_shape=(x_train.shape[1],)),\n",
        "    tf.keras.layers.Dense(64, activation='relu'), \n",
        "    tf.keras.layers.Dense(1)\n",
        "])\n",
        "\n",
        "model.summary()\n",
        "model.compile(optimizer='adam', loss='mse', metrics=['mae'])"
      ],
      "execution_count": 6,
      "outputs": [
        {
          "output_type": "stream",
          "name": "stdout",
          "text": [
            "Model: \"sequential\"\n",
            "_________________________________________________________________\n",
            "Layer (type)                 Output Shape              Param #   \n",
            "=================================================================\n",
            "dense (Dense)                (None, 64)                320       \n",
            "_________________________________________________________________\n",
            "dense_1 (Dense)              (None, 64)                4160      \n",
            "_________________________________________________________________\n",
            "dense_2 (Dense)              (None, 1)                 65        \n",
            "=================================================================\n",
            "Total params: 4,545\n",
            "Trainable params: 4,545\n",
            "Non-trainable params: 0\n",
            "_________________________________________________________________\n"
          ]
        }
      ]
    },
    {
      "cell_type": "markdown",
      "metadata": {
        "id": "AeIUBeUMWWA4"
      },
      "source": [
        "## Measure the performance of the deep learning regressor\n",
        "## We are running for only 10 epochs to show the process. You can add more epochs to increase the accuracy"
      ]
    },
    {
      "cell_type": "code",
      "metadata": {
        "scrolled": false,
        "id": "zf8JKwipWWBB",
        "colab": {
          "base_uri": "https://localhost:8080/"
        },
        "outputId": "15616df6-e588-44e2-ec70-715ad0ecc8cd"
      },
      "source": [
        "h = model.fit(x_train_1,\n",
        "              y_train_1,\n",
        "              epochs=10,\n",
        "              batch_size=1,\n",
        "              validation_data=(x_val, y_val))"
      ],
      "execution_count": 7,
      "outputs": [
        {
          "output_type": "stream",
          "name": "stdout",
          "text": [
            "Epoch 1/10\n",
            "5741/5741 [==============================] - 18s 3ms/step - loss: 9838.7422 - mae: 37.4315 - val_loss: 29.0902 - val_mae: 4.0461\n",
            "Epoch 2/10\n",
            "5741/5741 [==============================] - 15s 3ms/step - loss: 33.2053 - mae: 4.4392 - val_loss: 27.6165 - val_mae: 4.0989\n",
            "Epoch 3/10\n",
            "5741/5741 [==============================] - 15s 3ms/step - loss: 31.9912 - mae: 4.3857 - val_loss: 23.0654 - val_mae: 3.7647\n",
            "Epoch 4/10\n",
            "5741/5741 [==============================] - 15s 3ms/step - loss: 30.4312 - mae: 4.2686 - val_loss: 26.9037 - val_mae: 4.1197\n",
            "Epoch 5/10\n",
            "5741/5741 [==============================] - 15s 3ms/step - loss: 28.8999 - mae: 4.1532 - val_loss: 28.0505 - val_mae: 4.2172\n",
            "Epoch 6/10\n",
            "5741/5741 [==============================] - 15s 3ms/step - loss: 29.0803 - mae: 4.1824 - val_loss: 25.8594 - val_mae: 3.9080\n",
            "Epoch 7/10\n",
            "5741/5741 [==============================] - 15s 3ms/step - loss: 29.6803 - mae: 4.2272 - val_loss: 37.2454 - val_mae: 4.6659\n",
            "Epoch 8/10\n",
            "5741/5741 [==============================] - 15s 3ms/step - loss: 28.9041 - mae: 4.1906 - val_loss: 22.8699 - val_mae: 3.6485\n",
            "Epoch 9/10\n",
            "5741/5741 [==============================] - 15s 3ms/step - loss: 29.8249 - mae: 4.2154 - val_loss: 42.2484 - val_mae: 5.2587\n",
            "Epoch 10/10\n",
            "5741/5741 [==============================] - 15s 3ms/step - loss: 28.5411 - mae: 4.1371 - val_loss: 32.1531 - val_mae: 4.4737\n"
          ]
        }
      ]
    },
    {
      "cell_type": "markdown",
      "metadata": {
        "id": "8wVv3TS8WWBI"
      },
      "source": [
        "##  Performance Visualization"
      ]
    },
    {
      "cell_type": "code",
      "metadata": {
        "id": "vcb3yvIVWWBJ",
        "colab": {
          "base_uri": "https://localhost:8080/",
          "height": 282
        },
        "outputId": "dd39e2ac-8133-45f6-d769-ab4f95009d80"
      },
      "source": [
        "import matplotlib.pyplot as plt\n",
        "epochs = range(1, len(h.history['mae']) + 1)\n",
        "plt.style.use('ggplot')\n",
        "plt.plot(epochs[1:], h.history['loss'][1:], 'bo', \n",
        "         label='Training Loss')\n",
        "plt.plot(epochs[1:], h.history['val_loss'][1:], 'b',\n",
        "         label='Validation Loss')\n",
        "plt.xlabel('Epochs')\n",
        "plt.ylabel('Loss')\n",
        "plt.legend();"
      ],
      "execution_count": 8,
      "outputs": [
        {
          "output_type": "display_data",
          "data": {
            "image/png": "[encoded data removed]",
            "text/plain": [
              "<Figure size 432x288 with 1 Axes>"
            ]
          },
          "metadata": {}
        }
      ]
    },
    {
      "cell_type": "code",
      "metadata": {
        "id": "hNhOH9Q3WWBS",
        "colab": {
          "base_uri": "https://localhost:8080/",
          "height": 282
        },
        "outputId": "e08e0933-a651-4d5e-80dd-6d76becde02e"
      },
      "source": [
        "plt.clf()\n",
        "mae_values = h.history['mae']\n",
        "val_mae_values = h.history['val_mae']\n",
        "\n",
        "plt.plot(epochs[1:], mae_values[1:], 'bo', \n",
        "         label='Training MAE')\n",
        "plt.plot(epochs[1:], val_mae_values[1:], 'b',\n",
        "         label='Validation MAE')\n",
        "plt.xlabel('Epochs')\n",
        "plt.ylabel('MAE')\n",
        "plt.legend();"
      ],
      "execution_count": 9,
      "outputs": [
        {
          "output_type": "display_data",
          "data": {
            "image/png": "[encoded data removed]",
            "text/plain": [
              "<Figure size 432x288 with 1 Axes>"
            ]
          },
          "metadata": {}
        }
      ]
    },
    {
      "cell_type": "code",
      "metadata": {
        "id": "wk32y0DmWWBT",
        "colab": {
          "base_uri": "https://localhost:8080/"
        },
        "outputId": "0a264227-be16-44ff-d152-9d2f3d834b76"
      },
      "source": [
        "test_mse_score, test_mae_score = model.evaluate(x_test, y_test)"
      ],
      "execution_count": 12,
      "outputs": [
        {
          "output_type": "stream",
          "name": "stdout",
          "text": [
            "60/60 [==============================] - 0s 3ms/step - loss: 1079482880.0000 - mae: 32854.9609\n"
          ]
        }
      ]
    },
    {
      "cell_type": "markdown",
      "metadata": {
        "id": "Nrm07mioWWBX"
      },
      "source": [
        "***"
      ]
    }
  ]
}